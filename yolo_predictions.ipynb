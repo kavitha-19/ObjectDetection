{
 "cells": [
  {
   "cell_type": "code",
   "execution_count": 3,
   "id": "1c579a77-da62-4743-933d-8bf06d994b7b",
   "metadata": {},
   "outputs": [],
   "source": [
    "import cv2\n",
    "import numpy as np\n",
    "import yaml\n",
    "from yaml.loader import SafeLoader"
   ]
  },
  {
   "cell_type": "code",
   "execution_count": 7,
   "id": "e047d6f6-5a6e-4929-87b7-f2079c06e3c8",
   "metadata": {},
   "outputs": [
    {
     "name": "stdout",
     "output_type": "stream",
     "text": [
      "['person', 'chair', 'car', 'dog', 'bottle', 'bird', 'cat', 'pottedplant', 'sheep', 'boat', 'aeroplane', 'tvmonitor', 'bicycle', 'sofa', 'motorbike', 'cow', 'diningtable', 'horse', 'train', 'bus']\n"
     ]
    }
   ],
   "source": [
    "# Load YAML\n",
    "with open('data.yaml',mode='r') as f:\n",
    "    data_yaml = yaml.load(f,Loader=SafeLoader)\n",
    "\n",
    "labels = data_yaml['names']\n",
    "print(labels)\n"
   ]
  },
  {
   "cell_type": "code",
   "execution_count": 10,
   "id": "209b4d66-2a3c-4c52-9424-85591b3046e7",
   "metadata": {},
   "outputs": [
    {
     "name": "stdout",
     "output_type": "stream",
     "text": [
      " Volume in drive C is Acer\n",
      " Volume Serial Number is 300F-3588\n",
      "\n",
      " Directory of C:\\Users\\Kavitha padala\\Desktop\\kavithaProjects\\objectdetection\\predictions\n",
      "\n",
      "05/10/2024  08:16 PM    <DIR>          .\n",
      "05/10/2024  07:47 PM    <DIR>          ..\n",
      "05/10/2024  08:06 PM    <DIR>          .ipynb_checkpoints\n",
      "05/10/2024  03:38 PM               424 data.yaml\n",
      "05/10/2024  08:01 PM    <DIR>          Model4\n",
      "05/10/2024  08:01 PM           443,698 summer-streets-2023.jpg\n",
      "05/10/2024  08:16 PM             4,096 yolo_predictions.ipynb\n",
      "               3 File(s)        448,218 bytes\n",
      "               4 Dir(s)  168,845,606,912 bytes free\n"
     ]
    }
   ],
   "source": [
    "ls"
   ]
  },
  {
   "cell_type": "code",
   "execution_count": 47,
   "id": "2df6c5f5-c77d-4b3e-98f8-21ecd2642a0a",
   "metadata": {},
   "outputs": [],
   "source": [
    "# Load YOLO Model\n",
    "yolo = cv2.dnn.readNetFromONNX('Model4/weights/best.onnx')\n",
    "yolo.setPreferableBackend(cv2.dnn.DNN_BACKEND_OPENCV)\n",
    "yolo.setPreferableTarget(cv2.dnn.DNN_TARGET_CPU)"
   ]
  },
  {
   "cell_type": "code",
   "execution_count": 48,
   "id": "ae75d79e-6af8-4dcd-9201-703977a67a3f",
   "metadata": {},
   "outputs": [],
   "source": [
    "# Load the image \n",
    "img = cv2.imread('./summer-streets-2023.jpg')\n",
    "image = img.copy()\n",
    "\n",
    "# cv2.imshow('image',image)\n",
    "# cv2.waitKey(0)\n",
    "# cv2.destroyAllWindows()\n",
    "\n",
    "row,col,d = image.shape\n",
    "\n",
    "# get the YOLO prediction from the image\n",
    "#step1 convert image into square image (array)\n",
    "max_rc = max(row,col)\n",
    "input_image = np.zeros((max_rc,max_rc,3),dtype = np.uint8)\n",
    "input_image[0:row,0:col] = image\n",
    "\n",
    "#step2 get prediction from square array\n",
    "INPUT_WH_YOLO = 640\n",
    "blob = cv2.dnn.blobFromImage(input_image,1/255,(INPUT_WH_YOLO,INPUT_WH_YOLO),swapRB=True,crop=False)\n",
    "yolo.setInput(blob)\n",
    "preds = yolo.forward()  # detection or prediction from YOLO \n",
    "\n",
    "# cv2.imshow('input_image',input_image)\n",
    "# cv2.waitKey(0)\n",
    "# cv2.destroyAllWindows()"
   ]
  },
  {
   "cell_type": "code",
   "execution_count": 49,
   "id": "745adb90-a605-4c03-98dd-b373b4f39f50",
   "metadata": {},
   "outputs": [
    {
     "name": "stdout",
     "output_type": "stream",
     "text": [
      "(1, 25200, 25)\n"
     ]
    }
   ],
   "source": [
    "print(preds.shape)"
   ]
  },
  {
   "cell_type": "code",
   "execution_count": 50,
   "id": "30dee8ea-2469-41dd-b51d-450349ad731f",
   "metadata": {},
   "outputs": [],
   "source": [
    "# Non Maximum Supression\n",
    "#step1 filter detections based on confidence (0.4) and probability score (0.25)\n",
    "detections = preds[0]\n",
    "boxes = []\n",
    "confidences = []\n",
    "classes = []\n",
    "\n",
    "# width and height of the input_image\n",
    "image_w, image_h = input_image.shape[:2]\n",
    "x_factor = image_w/INPUT_WH_YOLO\n",
    "y_factor = image_h/INPUT_WH_YOLO\n",
    "\n",
    "\n",
    "for i in range(len(detections)):\n",
    "    row = detections[i]\n",
    "    confidence = row[4]  #confidence of detection an object\n",
    "    if confidence > 0.4:\n",
    "        class_score = row[5:].max()   #max probability from the 20 objects\n",
    "        class_id = row[5:].argmax() # get the index position at which max probability occur\n",
    "\n",
    "        if class_score > 0.25:\n",
    "            cx,cy,w,h = row[0:4]\n",
    "            #construct bounding from four values\n",
    "            #left,top,width and height\n",
    "            left = int((cx - 0.5*w)*x_factor)\n",
    "            top = int((cy - 0.5*h)*y_factor)\n",
    "            width = int(w*x_factor)\n",
    "            height = int(h*y_factor)\n",
    "\n",
    "            box = np.array([left,top,width,height])\n",
    "\n",
    "            # append values into yhe list\n",
    "            confidences.append(confidence)\n",
    "            boxes.append(box)\n",
    "            classes.append(class_id)\n",
    "\n",
    "\n",
    "# clean\n",
    "boxes_np = np.array(boxes).tolist()\n",
    "confidences_np = np.array(confidences).tolist()\n",
    "\n",
    "#NMS\n",
    "index = cv2.dnn.NMSBoxes(boxes_np,confidences_np,0.25,0.45).flatten()\n",
    "        \n",
    "        \n"
   ]
  },
  {
   "cell_type": "code",
   "execution_count": 51,
   "id": "08a5a61f-0769-429c-ad5e-daf54d4c49d8",
   "metadata": {},
   "outputs": [
    {
     "data": {
      "text/plain": [
       "1"
      ]
     },
     "execution_count": 51,
     "metadata": {},
     "output_type": "execute_result"
    }
   ],
   "source": [
    "len(index)"
   ]
  },
  {
   "cell_type": "code",
   "execution_count": 52,
   "id": "03ba3cbe-2eee-47d1-8dec-22efdd22182d",
   "metadata": {},
   "outputs": [],
   "source": [
    "# Draw the Bounding\n",
    "for ind in index:\n",
    "     # extract bounding box\n",
    "    x,y,w,h = boxes_np[ind]\n",
    "    bb_conf = int(confidences_np[ind]*100)\n",
    "    classes_id = classes[ind]\n",
    "    class_name = labels[classes_id]\n",
    "    \n",
    "\n",
    "    text = f'{class_name}: {bb_conf}%'\n",
    "\n",
    "    cv2.rectangle(image,(x,y),(x+w,y+h),(0,255,0),2)\n",
    "    cv2.rectangle(image,(x,y-30),(x+w,y),(255,255,255),-1)\n",
    "\n",
    "\n",
    "    cv2.putText(image,text,(x,y-10),cv2.FONT_HERSHEY_PLAIN,0.7,(0,0,0),1)\n",
    "\n",
    "\n"
   ]
  },
  {
   "cell_type": "code",
   "execution_count": 53,
   "id": "ae5fdcdd-88f5-4632-aa04-87dcdb3457c2",
   "metadata": {},
   "outputs": [],
   "source": [
    "cv2.imshow('original',img)\n",
    "cv2.imshow('yolo_prediction',image)\n",
    "cv2.waitKey(0)\n",
    "cv2.destroyAllWindows()"
   ]
  },
  {
   "cell_type": "code",
   "execution_count": 31,
   "id": "5fc86ea5-62ba-4a52-b92d-9fb26b8c65a3",
   "metadata": {},
   "outputs": [
    {
     "data": {
      "text/plain": [
       "[0.428214, 0.40786305, 0.44302794, 0.49571487, 0.42710614, 0.44320455]"
      ]
     },
     "execution_count": 31,
     "metadata": {},
     "output_type": "execute_result"
    }
   ],
   "source": [
    "confidences"
   ]
  },
  {
   "cell_type": "code",
   "execution_count": 32,
   "id": "0a1f2d81-1d42-4929-ba89-943bc9320853",
   "metadata": {},
   "outputs": [
    {
     "data": {
      "text/plain": [
       "[array([544, 344,  72, 139]),\n",
       " array([543, 338,  70, 150]),\n",
       " array([537, 338,  79, 152]),\n",
       " array([537, 342,  79, 148]),\n",
       " array([542, 337,  74, 155]),\n",
       " array([544, 333,  64, 165])]"
      ]
     },
     "execution_count": 32,
     "metadata": {},
     "output_type": "execute_result"
    }
   ],
   "source": [
    "boxes"
   ]
  },
  {
   "cell_type": "code",
   "execution_count": 35,
   "id": "4cc7770f-3bf2-4b79-b099-96128025fc30",
   "metadata": {},
   "outputs": [
    {
     "data": {
      "text/plain": [
       "[0, 0, 0, 0, 0, 0]"
      ]
     },
     "execution_count": 35,
     "metadata": {},
     "output_type": "execute_result"
    }
   ],
   "source": [
    "classes"
   ]
  },
  {
   "cell_type": "code",
   "execution_count": null,
   "id": "978a4329-a7e1-4647-8f24-8c2cd31589a2",
   "metadata": {},
   "outputs": [],
   "source": []
  }
 ],
 "metadata": {
  "kernelspec": {
   "display_name": "Python 3 (ipykernel)",
   "language": "python",
   "name": "python3"
  },
  "language_info": {
   "codemirror_mode": {
    "name": "ipython",
    "version": 3
   },
   "file_extension": ".py",
   "mimetype": "text/x-python",
   "name": "python",
   "nbconvert_exporter": "python",
   "pygments_lexer": "ipython3",
   "version": "3.11.9"
  }
 },
 "nbformat": 4,
 "nbformat_minor": 5
}
