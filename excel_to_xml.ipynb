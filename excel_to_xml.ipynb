{
 "cells": [
  {
   "cell_type": "code",
   "execution_count": 10,
   "id": "e76d53a9-2eb6-4d1f-85c5-d0c9eb7dc6cc",
   "metadata": {},
   "outputs": [],
   "source": [
    "import pandas as pd\n",
    "import xml.etree.ElementTree as ET\n",
    "from xml.dom import minidom\n",
    "\n",
    "# Step 1: Read the Excel sheet\n",
    "annotations_df = pd.read_csv('data_images/annotations.csv')\n",
    "\n",
    "# Step 2: Format the annotations (assuming columns: 'image_path', 'class', 'xmin', 'ymin', 'xmax', 'ymax')\n",
    "def create_pascal_voc_xml(filename, image_width, image_height, grouped_annotations):\n",
    "    annotation = ET.Element(\"annotation\")\n",
    "\n",
    "    folder = ET.SubElement(annotation, \"folder\")\n",
    "    folder.text = \"images\"\n",
    "\n",
    "    filename_elem = ET.SubElement(annotation, \"filename\")\n",
    "    filename_elem.text = filename\n",
    "\n",
    "    size = ET.SubElement(annotation, \"size\")\n",
    "    width = ET.SubElement(size, \"width\")\n",
    "    width.text = str(image_width)\n",
    "    height = ET.SubElement(size, \"height\")\n",
    "    height.text = str(image_height)\n",
    "    depth = ET.SubElement(size, \"depth\")\n",
    "    depth.text = \"3\"  # Assuming RGB images\n",
    "\n",
    "    for index, row in grouped_annotations.iterrows():\n",
    "        object = ET.SubElement(annotation, \"object\")\n",
    "        name = ET.SubElement(object, \"name\")\n",
    "        name.text = row['class']\n",
    "        bndbox = ET.SubElement(object, \"bndbox\")\n",
    "        xmin = ET.SubElement(bndbox, \"xmin\")\n",
    "        xmin.text = str(row['xmin'])\n",
    "        ymin = ET.SubElement(bndbox, \"ymin\")\n",
    "        ymin.text = str(row['ymin'])\n",
    "        xmax = ET.SubElement(bndbox, \"xmax\")\n",
    "        xmax.text = str(row['xmax'])\n",
    "        ymax = ET.SubElement(bndbox, \"ymax\")\n",
    "        ymax.text = str(row['ymax'])\n",
    "\n",
    "    return annotation\n",
    "\n",
    "# Step 3: Generate XML files\n",
    "grouped_annotations = annotations_df.groupby('filename')\n",
    "for filename, group in grouped_annotations:\n",
    "    xml_tree = create_pascal_voc_xml(filename, group.iloc[0]['width'], group.iloc[0]['height'], group)\n",
    "    xml_string = ET.tostring(xml_tree, encoding='utf8').decode('utf8')\n",
    "    xml_pretty = minidom.parseString(xml_string).toprettyxml(indent=\"  \")\n",
    "    with open(f'annotations/{filename}.xml', 'w') as xml_file:\n",
    "        xml_file.write(xml_pretty)\n",
    "\n"
   ]
  },
  {
   "cell_type": "code",
   "execution_count": null,
   "id": "9f016756-9725-4bd4-be1f-cca9e7b338dd",
   "metadata": {},
   "outputs": [],
   "source": []
  },
  {
   "cell_type": "code",
   "execution_count": null,
   "id": "9f0d683d-f1de-4da8-be90-f65b4f03ff53",
   "metadata": {},
   "outputs": [],
   "source": []
  }
 ],
 "metadata": {
  "kernelspec": {
   "display_name": "Python 3 (ipykernel)",
   "language": "python",
   "name": "python3"
  },
  "language_info": {
   "codemirror_mode": {
    "name": "ipython",
    "version": 3
   },
   "file_extension": ".py",
   "mimetype": "text/x-python",
   "name": "python",
   "nbconvert_exporter": "python",
   "pygments_lexer": "ipython3",
   "version": "3.11.9"
  }
 },
 "nbformat": 4,
 "nbformat_minor": 5
}
